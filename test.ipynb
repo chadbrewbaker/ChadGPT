{
 "cells": [
  {
   "cell_type": "markdown",
   "metadata": {},
   "source": [
    "# CIALUG December 2023 - MOJO\n",
    "\n",
    "Mojo is a new programming language by Chris Lattner of LLVM.\n",
    "\n",
    "* Uses MLIR so compiler can compose matrix operations and target hardware. No more CUDA!\n",
    "* Python syntax and built in Python kernel if you want to use Python.\n",
    "* Built in autotune for sizing caches etc.\n",
    "* Built in SIMD array types."
   ]
  },
  {
   "cell_type": "code",
   "execution_count": 24,
   "metadata": {},
   "outputs": [
    {
     "name": "stdout",
     "output_type": "stream",
     "text": [
      "Overwriting hello.c\n"
     ]
    }
   ],
   "source": [
    "%%file hello.c\n",
    "#include <stdio.h>\n",
    "\n",
    "int main(void) {\n",
    "printf(\"Hello, World!\\n\");\n",
    "return 0;\n",
    "}"
   ]
  },
  {
   "cell_type": "code",
   "execution_count": 23,
   "metadata": {
    "vscode": {
     "languageId": "shellscript"
    }
   },
   "outputs": [
    {
     "name": "stdout",
     "output_type": "stream",
     "text": [
      "Hello, World!\n",
      "Process:         hello [40955]\n",
      "Path:            /Users/USER/*/hello\n",
      "Load Address:    0x1006cc000\n",
      "Identifier:      hello\n",
      "Version:         0\n",
      "Code Type:       ARM64\n",
      "Platform:        macOS\n",
      "Parent Process:  leaks [40954]\n",
      "\n",
      "Date/Time:       2023-12-10 13:15:40.601 -0600\n",
      "Launch Time:     2023-12-10 13:15:40.391 -0600\n",
      "OS Version:      macOS 13.5.2 (22G91)\n",
      "Report Version:  7\n",
      "Analysis Tool:   /usr/bin/leaks\n",
      "\n",
      "Physical footprint:         2769K\n",
      "Physical footprint (peak):  2769K\n",
      "Idle exit:                  untracked\n",
      "----\n",
      "\n",
      "leaks Report Version: 4.0, multi-line stacks\n",
      "Process 40955: 221 nodes malloced for 31 KB\n",
      "Process 40955: 0 leaks for 0 total leaked bytes.\n",
      "\n"
     ]
    }
   ],
   "source": [
    "%%bash\n",
    "gcc -o hello hello.c\n",
    "leaks --atExit -- ./hello\n",
    "/opt/homebrew/opt/llvm/bin/clang-format  -i hello.c"
   ]
  },
  {
   "cell_type": "code",
   "execution_count": null,
   "metadata": {
    "vscode": {
     "languageId": "c"
    }
   },
   "outputs": [],
   "source": [
    "%load hello.c\n",
    "#include <stdio.h>\n",
    "\n",
    "int main(void) {\n",
    "  printf(\"Hello, World!\\n\");\n",
    "  return 0;\n",
    "}"
   ]
  },
  {
   "cell_type": "code",
   "execution_count": 26,
   "metadata": {},
   "outputs": [
    {
     "name": "stdout",
     "output_type": "stream",
     "text": [
      "Writing hello.mojo\n"
     ]
    }
   ],
   "source": [
    "%%writefile hello.mojo\n",
    "\n",
    "fn main():\n",
    "    print(\"Hello, World!\\n\")"
   ]
  },
  {
   "cell_type": "code",
   "execution_count": 32,
   "metadata": {},
   "outputs": [
    {
     "name": "stdout",
     "output_type": "stream",
     "text": [
      "Hello, World!\n",
      "\n",
      "Process:         hello_mojo [72894]\n",
      "Path:            /Users/USER/*/hello_mojo\n",
      "Load Address:    0x100864000\n",
      "Identifier:      hello_mojo\n",
      "Version:         0\n",
      "Code Type:       ARM64\n",
      "Platform:        macOS\n",
      "Parent Process:  leaks [72892]\n",
      "\n",
      "Date/Time:       2023-12-14 08:32:46.496 -0600\n",
      "Launch Time:     2023-12-14 08:32:46.239 -0600\n",
      "OS Version:      macOS 13.5.2 (22G91)\n",
      "Report Version:  7\n",
      "Analysis Tool:   /usr/bin/leaks\n",
      "\n",
      "Physical footprint:         2849K\n",
      "Physical footprint (peak):  2849K\n",
      "Idle exit:                  untracked\n",
      "----\n",
      "\n",
      "leaks Report Version: 4.0, multi-line stacks\n",
      "Process 72894: 222 nodes malloced for 14 KB\n",
      "Process 72894: 0 leaks for 0 total leaked bytes.\n",
      "\n"
     ]
    }
   ],
   "source": [
    "%%bash\n",
    "mojo build hello.mojo -o hello_mojo\n",
    "leaks --atExit -- ./hello_mojo"
   ]
  },
  {
   "cell_type": "code",
   "execution_count": 60,
   "metadata": {},
   "outputs": [
    {
     "name": "stdout",
     "output_type": "stream",
     "text": [
      "Overwriting input.mojo\n"
     ]
    }
   ],
   "source": [
    "%%writefile input.mojo\n",
    "from sys import argv\n",
    "from os import getenv\n",
    "\n",
    "fn main() raises:  #The file open command throws exceptions\n",
    "    print(len(sys.argv()))\n",
    "    for i in range(0, len(sys.argv())):\n",
    "        print(sys.argv()[i])\n",
    "    with open(\"/dev/stdin\", \"r\") as f:\n",
    "        let data1 = f.read_bytes(3)\n",
    "        let data2 = f.read_bytes(200)\n",
    "        print(data1)\n",
    "        print(ord('I')) #ASCII value of I\n",
    "        print(data2)\n",
    "    print(getenv(\"HOME\"))\n",
    "    "
   ]
  },
  {
   "cell_type": "code",
   "execution_count": 59,
   "metadata": {},
   "outputs": [
    {
     "name": "stdout",
     "output_type": "stream",
     "text": [
      "3\n",
      "./input_mojo\n",
      "some\n",
      "arguments\n",
      "Tensor([[73, 110, 112]], dtype=int8, shape=3)\n",
      "73\n",
      "Tensor([[117, 116, 32, ..., 106, 111, 10]], dtype=int8, shape=12)\n"
     ]
    }
   ],
   "source": [
    "%%bash\n",
    "mojo build input.mojo -o input_mojo\n",
    "echo \"Input for Mojo\" | ./input_mojo some arguments"
   ]
  }
 ],
 "metadata": {
  "kernelspec": {
   "display_name": "Python 3",
   "language": "python",
   "name": "python3"
  },
  "language_info": {
   "codemirror_mode": {
    "name": "ipython",
    "version": 3
   },
   "file_extension": ".py",
   "mimetype": "text/x-python",
   "name": "python",
   "nbconvert_exporter": "python",
   "pygments_lexer": "ipython3",
   "version": "3.11.6"
  }
 },
 "nbformat": 4,
 "nbformat_minor": 2
}
